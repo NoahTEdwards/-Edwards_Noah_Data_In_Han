{
 "cells": [
  {
   "cell_type": "markdown",
   "id": "sticky-plymouth",
   "metadata": {},
   "source": [
    "# Data In Hand\n",
    "\n",
    "My proposal for the final project was to find out which Brooklyn Nets NBA draft class from 1977 to 2020 was the strongest.\n",
    "\n",
    "I collected my data from a sports stats website. The website is https://www.basketball-reference.com/teams/NJN/draft.html \n",
    "\n",
    "I was able to get the data from the website by converting it into a CSV file. The data from the website was originally not a CSV but there was an option to get the data in CSV format. I then copy and pasted the data into an excel file and saved it as a CSV.\n"
   ]
  },
  {
   "cell_type": "code",
   "execution_count": 2,
   "id": "joint-avenue",
   "metadata": {},
   "outputs": [],
   "source": [
    "import pandas as pd"
   ]
  },
  {
   "cell_type": "code",
   "execution_count": 21,
   "id": "integral-purchase",
   "metadata": {},
   "outputs": [
    {
     "data": {
      "text/plain": [
       "Index(['Year', 'Lg', 'Rd', 'Pk', 'Player', 'College', 'Total G', 'Total MP',\n",
       "       'Total PTS', 'Total TRB', 'Shooting AST', 'Shooting FG%',\n",
       "       'Shooting 3P%', 'FT% Per Game', 'MP Per Game', 'PTS Per Game',\n",
       "       'TRB Per Game', 'AST Advanced', 'WS Advanced', 'WS/48 Advanced',\n",
       "       'BPM Advanced', 'VORP'],\n",
       "      dtype='object')"
      ]
     },
     "execution_count": 21,
     "metadata": {},
     "output_type": "execute_result"
    }
   ],
   "source": [
    "bn_draft = pd.read_csv(r'C:\\Users\\ntedw\\EMAT 22110\\Brooklyn_Nets_Draft.csv')\n",
    "bn_draft.keys()"
   ]
  },
  {
   "cell_type": "code",
   "execution_count": 26,
   "id": "earned-collective",
   "metadata": {},
   "outputs": [
    {
     "data": {
      "text/plain": [
       "0                        Saddiq Bey (↳DET)\n",
       "1                        Jay Scrubb (↳LAC)\n",
       "2     Nickeil Alexander-Walker (↳ATL ↳NOP)\n",
       "3                 Mfiondu Kabengele (↳LAC)\n",
       "4                          Nicolas Claxton\n",
       "                      ...                 \n",
       "78                         Yommy Sangodeyi\n",
       "79                            Hank Cornley\n",
       "80                          Michael Gerren\n",
       "81                           Oscar Schmidt\n",
       "82                             Sean Kerins\n",
       "Name: Player, Length: 83, dtype: object"
      ]
     },
     "execution_count": 26,
     "metadata": {},
     "output_type": "execute_result"
    }
   ],
   "source": [
    "bn_draft['Player']"
   ]
  }
 ],
 "metadata": {
  "kernelspec": {
   "display_name": "Python 3",
   "language": "python",
   "name": "python3"
  },
  "language_info": {
   "codemirror_mode": {
    "name": "ipython",
    "version": 3
   },
   "file_extension": ".py",
   "mimetype": "text/x-python",
   "name": "python",
   "nbconvert_exporter": "python",
   "pygments_lexer": "ipython3",
   "version": "3.9.1"
  }
 },
 "nbformat": 4,
 "nbformat_minor": 5
}
